{
 "cells": [
  {
   "cell_type": "code",
   "execution_count": 1,
   "id": "bae40a17-4e2d-4a19-a437-c882825f8ab6",
   "metadata": {},
   "outputs": [],
   "source": [
    "import pandas as pd\n",
    "import numpy as np\n",
    "import seaborn as sns"
   ]
  },
  {
   "cell_type": "code",
   "execution_count": 2,
   "id": "3fcc443e-69c9-4113-b6ec-95c9810a18cc",
   "metadata": {},
   "outputs": [],
   "source": [
    "headers=['srcip','sport','dstip','dsport','proto','state','dur','sbytes','dbytes','sttl','dttl','sloss','dloss',\n",
    "         'service','Sload','Dload','Spkts','Dpkts','swin','dwin','stcpb','dtcpb','smeansz','dmeansz','trans_depth',\n",
    "         'res_bdy_len','Sjit','Djit','Stime','Ltime','Sintpkt','Dintpkt','tcprtt','synack','ackdat',\n",
    "         'is_sm_ips_ports','ct_state_ttl','ct_flw_http_mthd','is_ftp_login','ct_ftp_cmd','ct_srv_src',\n",
    "         'ct_srv_dst','ct_dst_ltm','ct_src_ ltm','ct_src_dport_ltm','ct_dst_sport_ltm','ct_dst_src_ltm','attack_cat','Label']"
   ]
  },
  {
   "cell_type": "code",
   "execution_count": 3,
   "id": "92df8c50-243b-46d3-9ab2-9e81372b135d",
   "metadata": {},
   "outputs": [
    {
     "name": "stderr",
     "output_type": "stream",
     "text": [
      "C:\\Users\\sumit\\AppData\\Local\\Temp\\ipykernel_6932\\1150938076.py:1: DtypeWarning: Columns (3,39,47) have mixed types. Specify dtype option on import or set low_memory=False.\n",
      "  data = pd.read_csv(r\".\\Datasets\\UNSW-NB15_2.csv\", names= headers)\n"
     ]
    }
   ],
   "source": [
    "data = pd.read_csv(r\".\\Datasets\\UNSW-NB15_2.csv\", names= headers)"
   ]
  },
  {
   "cell_type": "code",
   "execution_count": 4,
   "id": "18b84136-5d88-4266-b4f7-9bdb01eeb8c8",
   "metadata": {},
   "outputs": [
    {
     "data": {
      "text/html": [
       "<div>\n",
       "<style scoped>\n",
       "    .dataframe tbody tr th:only-of-type {\n",
       "        vertical-align: middle;\n",
       "    }\n",
       "\n",
       "    .dataframe tbody tr th {\n",
       "        vertical-align: top;\n",
       "    }\n",
       "\n",
       "    .dataframe thead th {\n",
       "        text-align: right;\n",
       "    }\n",
       "</style>\n",
       "<table border=\"1\" class=\"dataframe\">\n",
       "  <thead>\n",
       "    <tr style=\"text-align: right;\">\n",
       "      <th></th>\n",
       "      <th>srcip</th>\n",
       "      <th>sport</th>\n",
       "      <th>dstip</th>\n",
       "      <th>dsport</th>\n",
       "      <th>proto</th>\n",
       "      <th>state</th>\n",
       "      <th>dur</th>\n",
       "      <th>sbytes</th>\n",
       "      <th>dbytes</th>\n",
       "      <th>sttl</th>\n",
       "      <th>...</th>\n",
       "      <th>ct_ftp_cmd</th>\n",
       "      <th>ct_srv_src</th>\n",
       "      <th>ct_srv_dst</th>\n",
       "      <th>ct_dst_ltm</th>\n",
       "      <th>ct_src_ ltm</th>\n",
       "      <th>ct_src_dport_ltm</th>\n",
       "      <th>ct_dst_sport_ltm</th>\n",
       "      <th>ct_dst_src_ltm</th>\n",
       "      <th>attack_cat</th>\n",
       "      <th>Label</th>\n",
       "    </tr>\n",
       "  </thead>\n",
       "  <tbody>\n",
       "    <tr>\n",
       "      <th>0</th>\n",
       "      <td>59.166.0.0</td>\n",
       "      <td>6055</td>\n",
       "      <td>149.171.126.5</td>\n",
       "      <td>54145</td>\n",
       "      <td>tcp</td>\n",
       "      <td>FIN</td>\n",
       "      <td>0.072974</td>\n",
       "      <td>4238</td>\n",
       "      <td>60788</td>\n",
       "      <td>31</td>\n",
       "      <td>...</td>\n",
       "      <td>0</td>\n",
       "      <td>13</td>\n",
       "      <td>13</td>\n",
       "      <td>6</td>\n",
       "      <td>7</td>\n",
       "      <td>1</td>\n",
       "      <td>1</td>\n",
       "      <td>2</td>\n",
       "      <td>NaN</td>\n",
       "      <td>0</td>\n",
       "    </tr>\n",
       "    <tr>\n",
       "      <th>1</th>\n",
       "      <td>59.166.0.0</td>\n",
       "      <td>7832</td>\n",
       "      <td>149.171.126.3</td>\n",
       "      <td>5607</td>\n",
       "      <td>tcp</td>\n",
       "      <td>FIN</td>\n",
       "      <td>0.144951</td>\n",
       "      <td>5174</td>\n",
       "      <td>91072</td>\n",
       "      <td>31</td>\n",
       "      <td>...</td>\n",
       "      <td>0</td>\n",
       "      <td>13</td>\n",
       "      <td>13</td>\n",
       "      <td>6</td>\n",
       "      <td>7</td>\n",
       "      <td>1</td>\n",
       "      <td>1</td>\n",
       "      <td>2</td>\n",
       "      <td>NaN</td>\n",
       "      <td>0</td>\n",
       "    </tr>\n",
       "    <tr>\n",
       "      <th>2</th>\n",
       "      <td>59.166.0.8</td>\n",
       "      <td>11397</td>\n",
       "      <td>149.171.126.6</td>\n",
       "      <td>21</td>\n",
       "      <td>tcp</td>\n",
       "      <td>FIN</td>\n",
       "      <td>0.116107</td>\n",
       "      <td>2934</td>\n",
       "      <td>3742</td>\n",
       "      <td>31</td>\n",
       "      <td>...</td>\n",
       "      <td>1</td>\n",
       "      <td>1</td>\n",
       "      <td>2</td>\n",
       "      <td>7</td>\n",
       "      <td>5</td>\n",
       "      <td>1</td>\n",
       "      <td>1</td>\n",
       "      <td>4</td>\n",
       "      <td>NaN</td>\n",
       "      <td>0</td>\n",
       "    </tr>\n",
       "    <tr>\n",
       "      <th>3</th>\n",
       "      <td>59.166.0.0</td>\n",
       "      <td>3804</td>\n",
       "      <td>149.171.126.3</td>\n",
       "      <td>53</td>\n",
       "      <td>udp</td>\n",
       "      <td>CON</td>\n",
       "      <td>0.000986</td>\n",
       "      <td>146</td>\n",
       "      <td>178</td>\n",
       "      <td>31</td>\n",
       "      <td>...</td>\n",
       "      <td>0</td>\n",
       "      <td>13</td>\n",
       "      <td>13</td>\n",
       "      <td>6</td>\n",
       "      <td>7</td>\n",
       "      <td>1</td>\n",
       "      <td>1</td>\n",
       "      <td>2</td>\n",
       "      <td>NaN</td>\n",
       "      <td>0</td>\n",
       "    </tr>\n",
       "    <tr>\n",
       "      <th>4</th>\n",
       "      <td>59.166.0.8</td>\n",
       "      <td>14339</td>\n",
       "      <td>149.171.126.6</td>\n",
       "      <td>14724</td>\n",
       "      <td>tcp</td>\n",
       "      <td>FIN</td>\n",
       "      <td>0.038480</td>\n",
       "      <td>8928</td>\n",
       "      <td>320</td>\n",
       "      <td>31</td>\n",
       "      <td>...</td>\n",
       "      <td>0</td>\n",
       "      <td>8</td>\n",
       "      <td>20</td>\n",
       "      <td>7</td>\n",
       "      <td>5</td>\n",
       "      <td>1</td>\n",
       "      <td>1</td>\n",
       "      <td>4</td>\n",
       "      <td>NaN</td>\n",
       "      <td>0</td>\n",
       "    </tr>\n",
       "  </tbody>\n",
       "</table>\n",
       "<p>5 rows × 49 columns</p>\n",
       "</div>"
      ],
      "text/plain": [
       "        srcip  sport          dstip dsport proto state       dur  sbytes  \\\n",
       "0  59.166.0.0   6055  149.171.126.5  54145   tcp   FIN  0.072974    4238   \n",
       "1  59.166.0.0   7832  149.171.126.3   5607   tcp   FIN  0.144951    5174   \n",
       "2  59.166.0.8  11397  149.171.126.6     21   tcp   FIN  0.116107    2934   \n",
       "3  59.166.0.0   3804  149.171.126.3     53   udp   CON  0.000986     146   \n",
       "4  59.166.0.8  14339  149.171.126.6  14724   tcp   FIN  0.038480    8928   \n",
       "\n",
       "   dbytes  sttl  ...  ct_ftp_cmd  ct_srv_src  ct_srv_dst ct_dst_ltm  \\\n",
       "0   60788    31  ...           0          13          13          6   \n",
       "1   91072    31  ...           0          13          13          6   \n",
       "2    3742    31  ...           1           1           2          7   \n",
       "3     178    31  ...           0          13          13          6   \n",
       "4     320    31  ...           0           8          20          7   \n",
       "\n",
       "   ct_src_ ltm  ct_src_dport_ltm  ct_dst_sport_ltm  ct_dst_src_ltm  \\\n",
       "0            7                 1                 1               2   \n",
       "1            7                 1                 1               2   \n",
       "2            5                 1                 1               4   \n",
       "3            7                 1                 1               2   \n",
       "4            5                 1                 1               4   \n",
       "\n",
       "   attack_cat  Label  \n",
       "0         NaN      0  \n",
       "1         NaN      0  \n",
       "2         NaN      0  \n",
       "3         NaN      0  \n",
       "4         NaN      0  \n",
       "\n",
       "[5 rows x 49 columns]"
      ]
     },
     "execution_count": 4,
     "metadata": {},
     "output_type": "execute_result"
    }
   ],
   "source": [
    "data.head()"
   ]
  },
  {
   "cell_type": "code",
   "execution_count": 5,
   "id": "7a0ee846-2ea3-433a-a528-3fc12fd00744",
   "metadata": {},
   "outputs": [
    {
     "data": {
      "text/plain": [
       "(700001, 49)"
      ]
     },
     "execution_count": 5,
     "metadata": {},
     "output_type": "execute_result"
    }
   ],
   "source": [
    "data.shape"
   ]
  },
  {
   "cell_type": "code",
   "execution_count": null,
   "id": "412bea5c-0cd6-48dd-9d49-61c84faee783",
   "metadata": {},
   "outputs": [],
   "source": [
    "data.replace(['-','NaN'],np.nan,inplace=True)"
   ]
  },
  {
   "cell_type": "code",
   "execution_count": 7,
   "id": "69237183-8f60-45c9-8d75-82ef5fb4ba0e",
   "metadata": {},
   "outputs": [
    {
     "data": {
      "text/plain": [
       "srcip                    0\n",
       "sport                    0\n",
       "dstip                    0\n",
       "dsport                   0\n",
       "proto                    0\n",
       "state                    0\n",
       "dur                      0\n",
       "sbytes                   0\n",
       "dbytes                   0\n",
       "sttl                     0\n",
       "dttl                     0\n",
       "sloss                    0\n",
       "dloss                    0\n",
       "service             368322\n",
       "Sload                    0\n",
       "Dload                    0\n",
       "Spkts                    0\n",
       "Dpkts                    0\n",
       "swin                     0\n",
       "dwin                     0\n",
       "stcpb                    0\n",
       "dtcpb                    0\n",
       "smeansz                  0\n",
       "dmeansz                  0\n",
       "trans_depth              0\n",
       "res_bdy_len              0\n",
       "Sjit                     0\n",
       "Djit                     0\n",
       "Stime                    0\n",
       "Ltime                    0\n",
       "Sintpkt                  0\n",
       "Dintpkt                  0\n",
       "tcprtt                   0\n",
       "synack                   0\n",
       "ackdat                   0\n",
       "is_sm_ips_ports          0\n",
       "ct_state_ttl             0\n",
       "ct_flw_http_mthd    285256\n",
       "is_ftp_login        307038\n",
       "ct_ftp_cmd               0\n",
       "ct_srv_src               0\n",
       "ct_srv_dst               0\n",
       "ct_dst_ltm               0\n",
       "ct_src_ ltm              0\n",
       "ct_src_dport_ltm         0\n",
       "ct_dst_sport_ltm         0\n",
       "ct_dst_src_ltm           0\n",
       "attack_cat          647252\n",
       "Label                    0\n",
       "dtype: int64"
      ]
     },
     "execution_count": 7,
     "metadata": {},
     "output_type": "execute_result"
    }
   ],
   "source": [
    "data.isnull().sum()"
   ]
  },
  {
   "cell_type": "code",
   "execution_count": 8,
   "id": "e0698df3-688a-42d6-a18b-db41f1004eda",
   "metadata": {},
   "outputs": [
    {
     "data": {
      "text/plain": [
       "service\n",
       "Not_Known_service    368322\n",
       "dns                  169660\n",
       "http                  65824\n",
       "ftp-data              40394\n",
       "smtp                  25860\n",
       "ssh                   15051\n",
       "ftp                   14425\n",
       "pop3                    355\n",
       "dhcp                     37\n",
       "ssl                      32\n",
       "snmp                     27\n",
       "radius                    8\n",
       "irc                       6\n",
       "Name: count, dtype: int64"
      ]
     },
     "execution_count": 8,
     "metadata": {},
     "output_type": "execute_result"
    }
   ],
   "source": [
    "data['service'].replace(np.nan,'Not_Known_service', inplace=True) \n",
    "data['service'].value_counts()"
   ]
  },
  {
   "cell_type": "code",
   "execution_count": 9,
   "id": "2c2b932c-3dc5-48cc-9e5d-173fdf6f081a",
   "metadata": {},
   "outputs": [
    {
     "data": {
      "text/plain": [
       "ct_flw_http_mthd\n",
       "0.0               348356\n",
       "Not_Known_mthd    285256\n",
       "1.0                64096\n",
       "4.0                 2004\n",
       "2.0                  156\n",
       "9.0                   57\n",
       "14.0                  28\n",
       "16.0                  16\n",
       "12.0                  12\n",
       "6.0                   12\n",
       "8.0                    8\n",
       "Name: count, dtype: int64"
      ]
     },
     "execution_count": 9,
     "metadata": {},
     "output_type": "execute_result"
    }
   ],
   "source": [
    "data['ct_flw_http_mthd'].replace(np.nan,'Not_Known_mthd', inplace=True) \n",
    "data['ct_flw_http_mthd'].value_counts()"
   ]
  },
  {
   "cell_type": "code",
   "execution_count": 10,
   "id": "f34f8079-8416-4d41-a247-5316c000d83c",
   "metadata": {},
   "outputs": [
    {
     "data": {
      "text/plain": [
       "is_ftp_login\n",
       "0.0                380328\n",
       "Not_Known_login    307038\n",
       "1.0                 12593\n",
       "4.0                    32\n",
       "2.0                    10\n",
       "Name: count, dtype: int64"
      ]
     },
     "execution_count": 10,
     "metadata": {},
     "output_type": "execute_result"
    }
   ],
   "source": [
    "data['is_ftp_login'].replace(np.nan,'Not_Known_login', inplace=True) \n",
    "data['is_ftp_login'].value_counts()"
   ]
  },
  {
   "cell_type": "code",
   "execution_count": 11,
   "id": "3b75a448-0ab1-43e6-b55b-3c241c2f1be2",
   "metadata": {},
   "outputs": [
    {
     "data": {
      "text/plain": [
       "attack_cat\n",
       "Not_Known_Attack    647252\n",
       "Generic              27883\n",
       "Exploits             11103\n",
       " Fuzzers              4668\n",
       "DoS                   4637\n",
       " Reconnaissance       3116\n",
       "Analysis               608\n",
       "Backdoor               370\n",
       " Shellcode             324\n",
       "Worms                   40\n",
       "Name: count, dtype: int64"
      ]
     },
     "execution_count": 11,
     "metadata": {},
     "output_type": "execute_result"
    }
   ],
   "source": [
    "data['attack_cat'].replace(np.nan,'Not_Known_Attack', inplace=True) \n",
    "data['attack_cat'].value_counts()"
   ]
  },
  {
   "cell_type": "code",
   "execution_count": null,
   "id": "b6f89cce-30fd-4b40-976b-03d2b61b8924",
   "metadata": {},
   "outputs": [],
   "source": [
    "data.to_csv(r'.//Datasets//step1_cleanData.csv', index=False)"
   ]
  }
 ],
 "metadata": {
  "kernelspec": {
   "display_name": "Python 3 (ipykernel)",
   "language": "python",
   "name": "python3"
  },
  "language_info": {
   "codemirror_mode": {
    "name": "ipython",
    "version": 3
   },
   "file_extension": ".py",
   "mimetype": "text/x-python",
   "name": "python",
   "nbconvert_exporter": "python",
   "pygments_lexer": "ipython3",
   "version": "3.8.19"
  }
 },
 "nbformat": 4,
 "nbformat_minor": 5
}
